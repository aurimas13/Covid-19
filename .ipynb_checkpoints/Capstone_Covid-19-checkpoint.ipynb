{
 "cells": [
  {
   "cell_type": "markdown",
   "id": "16659640",
   "metadata": {},
   "source": [
    "# Introduction\n",
    "\n",
    "Herein we'll analyse Covid-19 data sets of South Korea. The notebook will provide and describe steps of data cleaning, data preprocessing, exploratory data analysis, visualizations, comparisons, correlation calculations and finalise with giving improvements and conclusion."
   ]
  },
  {
   "cell_type": "code",
   "execution_count": 2,
   "id": "3348fd47",
   "metadata": {},
   "outputs": [],
   "source": [
    "# Importing libraries\n",
    "\n",
    "import numpy as np \n",
    "import pandas as pd\n",
    "import matplotlib.pyplot as plt\n",
    "import seaborn as sns\n",
    "import scipy.stats as ss\n",
    "import plotly.express as px\n",
    "import itertools\n",
    "from scipy import stats\n",
    "from mlxtend.preprocessing import minmax_scaling\n",
    "from typing import Union\n",
    "from wordcloud import WordCloud, STOPWORDS\n",
    "from plotly.offline import iplot\n",
    "import warnings\n",
    "warnings.filterwarnings('ignore')"
   ]
  },
  {
   "cell_type": "markdown",
   "id": "aea949ba",
   "metadata": {},
   "source": [
    "# Loading spotify data"
   ]
  },
  {
   "cell_type": "code",
   "execution_count": null,
   "id": "5b495b39",
   "metadata": {},
   "outputs": [],
   "source": []
  }
 ],
 "metadata": {
  "kernelspec": {
   "display_name": "Python 3",
   "language": "python",
   "name": "python3"
  },
  "language_info": {
   "codemirror_mode": {
    "name": "ipython",
    "version": 3
   },
   "file_extension": ".py",
   "mimetype": "text/x-python",
   "name": "python",
   "nbconvert_exporter": "python",
   "pygments_lexer": "ipython3",
   "version": "3.8.5"
  }
 },
 "nbformat": 4,
 "nbformat_minor": 5
}
